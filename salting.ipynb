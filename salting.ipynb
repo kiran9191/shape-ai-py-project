{
  "nbformat": 4,
  "nbformat_minor": 0,
  "metadata": {
    "colab": {
      "name": "salting.ipynb",
      "provenance": [],
      "collapsed_sections": [],
      "include_colab_link": true
    },
    "kernelspec": {
      "name": "python3",
      "display_name": "Python 3"
    },
    "language_info": {
      "name": "python"
    }
  },
  "cells": [
    {
      "cell_type": "markdown",
      "metadata": {
        "id": "view-in-github",
        "colab_type": "text"
      },
      "source": [
        "<a href=\"https://colab.research.google.com/github/kiran9191/shape-ai-py-project/blob/main/salting.ipynb\" target=\"_parent\"><img src=\"https://colab.research.google.com/assets/colab-badge.svg\" alt=\"Open In Colab\"/></a>"
      ]
    },
    {
      "cell_type": "code",
      "metadata": {
        "colab": {
          "base_uri": "https://localhost:8080/"
        },
        "id": "mmGIdXnJaKn4",
        "outputId": "df6ee13d-467b-4da2-c0f5-b9aaefc4fbf2"
      },
      "source": [
        "import hashlib\n",
        "\n",
        "def hash(x):\n",
        "  encode = x.encode()\n",
        "  hash = hashlib.md5(encode)\n",
        "  temp = hash.hexdigest()\n",
        "  return temp\n",
        "y=input(\" enter data:  \")\n",
        "z=[]\n",
        "z.append(hash(y))\n",
        "for i in range(int(input(\"no of times hashing:\"))):\n",
        "  z.append(hash(z[i]))\n",
        "for i in z:\n",
        "  print(i)\n"
      ],
      "execution_count": null,
      "outputs": [
        {
          "output_type": "stream",
          "text": [
            " enter data:  rakesh\n",
            "no of times hashing:10\n",
            "67a05e3822ce48a6386746388e6c81f5\n",
            "7a8d64c936e0f3e43eff466b79bd2a13\n",
            "03a6233145bb6d61261c9a4d162e9deb\n",
            "c469440b715afa2f93f343c8c8c98ec3\n",
            "78b8267b71f44001309598bf9407825c\n",
            "196dd8fc4e7fa19fdf42a076c4801247\n",
            "fd6826b4b0365d35f737bb4729d70aeb\n",
            "3343f6866fd991786a414bba0ab3234e\n",
            "37da1038c8fc637518a65bf6fc2154f3\n",
            "736298804e1942ea6469a0776336a9a3\n",
            "46808999168bbefabc45cb31138ab926\n"
          ],
          "name": "stdout"
        }
      ]
    }
  ]
}