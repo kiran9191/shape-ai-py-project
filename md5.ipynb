{
  "nbformat": 4,
  "nbformat_minor": 0,
  "metadata": {
    "colab": {
      "name": "md5.ipynb",
      "provenance": [],
      "collapsed_sections": [],
      "include_colab_link": true
    },
    "kernelspec": {
      "name": "python3",
      "display_name": "Python 3"
    },
    "language_info": {
      "name": "python"
    }
  },
  "cells": [
    {
      "cell_type": "markdown",
      "metadata": {
        "id": "view-in-github",
        "colab_type": "text"
      },
      "source": [
        "<a href=\"https://colab.research.google.com/github/kiran9191/shape-ai-py-project/blob/main/md5.ipynb\" target=\"_parent\"><img src=\"https://colab.research.google.com/assets/colab-badge.svg\" alt=\"Open In Colab\"/></a>"
      ]
    },
    {
      "cell_type": "code",
      "metadata": {
        "colab": {
          "base_uri": "https://localhost:8080/"
        },
        "id": "Cg6MEJC63TEK",
        "outputId": "2c8bce7d-be95-435e-a898-e7e2c0794652"
      },
      "source": [
        "import hashlib\n",
        "\n",
        "def hash():\n",
        "  a = input(\"enter data\\n\")\n",
        "  encode = a.encode()\n",
        "  hash = hashlib.md5(encode)\n",
        "  temp = hash.hexdigest()\n",
        "  \n",
        "  print ( \"The MD5 hash for\",a, \"is:\" ,temp ) \n",
        "  #print (hashlib.algorithms_available)\n",
        "hash() "
      ],
      "execution_count": null,
      "outputs": [
        {
          "output_type": "stream",
          "text": [
            "enter data\n",
            "buri\n",
            "The MD5 hash for buri is: d4c60b95e0cb5eb74e18581f74d70201\n"
          ],
          "name": "stdout"
        }
      ]
    }
  ]
}