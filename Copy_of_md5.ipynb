{
  "nbformat": 4,
  "nbformat_minor": 0,
  "metadata": {
    "colab": {
      "name": "Copy of md5.ipynb",
      "provenance": [],
      "collapsed_sections": [],
      "include_colab_link": true
    },
    "kernelspec": {
      "name": "python3",
      "display_name": "Python 3"
    },
    "language_info": {
      "name": "python"
    }
  },
  "cells": [
    {
      "cell_type": "markdown",
      "metadata": {
        "id": "view-in-github",
        "colab_type": "text"
      },
      "source": [
        "<a href=\"https://colab.research.google.com/github/kiran9191/shape-ai-py-project/blob/main/Copy_of_md5.ipynb\" target=\"_parent\"><img src=\"https://colab.research.google.com/assets/colab-badge.svg\" alt=\"Open In Colab\"/></a>"
      ]
    },
    {
      "cell_type": "code",
      "metadata": {
        "colab": {
          "base_uri": "https://localhost:8080/"
        },
        "id": "Cg6MEJC63TEK",
        "outputId": "b067c152-812f-4172-c022-aef6a5722a5b"
      },
      "source": [
        "import hashlib\n",
        "\n",
        "def hash():\n",
        "  a = input(\"enter data\\n\")\n",
        "  encode = a.encode()\n",
        "  hash = hashlib.md5(encode)\n",
        "  temp = hash.hexdigest()\n",
        "  \n",
        "  print ( \"The MD5 hash for\",a, \"is:\" ,temp ) \n",
        "  #print (hashlib.algorithms_available)\n",
        "hash() "
      ],
      "execution_count": null,
      "outputs": [
        {
          "output_type": "stream",
          "text": [
            "enter data\n",
            "kumar\n",
            "The MD5 hash for kumar is: 79cfac6387e0d582f83a29a04d0bcdc4\n"
          ],
          "name": "stdout"
        }
      ]
    },
    {
      "cell_type": "code",
      "metadata": {
        "id": "1GzPC0_zV7yd"
      },
      "source": [
        ""
      ],
      "execution_count": null,
      "outputs": []
    },
    {
      "cell_type": "code",
      "metadata": {
        "id": "wn_Wb_qFV8Y_"
      },
      "source": [
        ""
      ],
      "execution_count": null,
      "outputs": []
    }
  ]
}